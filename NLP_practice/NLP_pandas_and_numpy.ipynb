{
  "nbformat": 4,
  "nbformat_minor": 0,
  "metadata": {
    "colab": {
      "name": "NLP_pandas_and_numpy.ipynb",
      "provenance": [],
      "authorship_tag": "ABX9TyPhxvvITMb1GC4yRvsDuhsq",
      "include_colab_link": true
    },
    "kernelspec": {
      "name": "python3",
      "display_name": "Python 3"
    },
    "language_info": {
      "name": "python"
    }
  },
  "cells": [
    {
      "cell_type": "markdown",
      "metadata": {
        "id": "view-in-github",
        "colab_type": "text"
      },
      "source": [
        "<a href=\"https://colab.research.google.com/github/EastShineK/Machine_Learning/blob/master/NLP_practice/NLP_pandas_and_numpy.ipynb\" target=\"_parent\"><img src=\"https://colab.research.google.com/assets/colab-badge.svg\" alt=\"Open In Colab\"/></a>"
      ]
    },
    {
      "cell_type": "code",
      "execution_count": 1,
      "metadata": {
        "id": "wFtkehkhmUEp"
      },
      "outputs": [],
      "source": [
        "import pandas as pd"
      ]
    },
    {
      "cell_type": "code",
      "source": [
        "sr = pd.Series([1700,18000,1000,500], index=[\"pizza\", \"chicken\", \"coke\", \"beer\"])\n",
        "print('시리즈 출력 : ')\n",
        "print('-'*15)\n",
        "print(sr)"
      ],
      "metadata": {
        "colab": {
          "base_uri": "https://localhost:8080/"
        },
        "id": "uwdhmQl0nq-J",
        "outputId": "cebf76e0-01e3-40f0-c25a-80d7c8fb6e30"
      },
      "execution_count": 2,
      "outputs": [
        {
          "output_type": "stream",
          "name": "stdout",
          "text": [
            "시리즈 출력 : \n",
            "---------------\n",
            "pizza       1700\n",
            "chicken    18000\n",
            "coke        1000\n",
            "beer         500\n",
            "dtype: int64\n"
          ]
        }
      ]
    },
    {
      "cell_type": "code",
      "source": [
        "values = [[1,2,3], [4,5,6], [7,8,9]]\n",
        "index = ['one', 'two', 'three']\n",
        "columns = ['A', 'B', 'C']\n",
        "\n",
        "df = pd.DataFrame(values, index = index, columns = columns)\n",
        "\n",
        "print('데이터 프레임 출력 :')\n",
        "print('-' * 18)\n",
        "print(df)"
      ],
      "metadata": {
        "colab": {
          "base_uri": "https://localhost:8080/"
        },
        "id": "oVMywk5tn9ms",
        "outputId": "1a979d9c-5d89-465e-a821-73fc40ad16ff"
      },
      "execution_count": 4,
      "outputs": [
        {
          "output_type": "stream",
          "name": "stdout",
          "text": [
            "데이터 프레임 출력 :\n",
            "------------------\n",
            "       A  B  C\n",
            "one    1  2  3\n",
            "two    4  5  6\n",
            "three  7  8  9\n"
          ]
        }
      ]
    },
    {
      "cell_type": "code",
      "source": [
        "data = [ ['1000', 'Steve', 90.72], \n",
        "    ['1001', 'James', 78.09], \n",
        "    ['1002', 'Doyeon', 98.43], \n",
        "    ['1003', 'Jane', 64.19], \n",
        "    ['1004', 'Pilwoong', 81.30],\n",
        "    ['1005', 'Tony', 99.14],]\n",
        "\n",
        "df = pd.DataFrame(data)\n",
        "print(df)"
      ],
      "metadata": {
        "colab": {
          "base_uri": "https://localhost:8080/"
        },
        "id": "uIax-tTtpcVl",
        "outputId": "949a48f8-4586-479e-e288-1fcf0f57288b"
      },
      "execution_count": 5,
      "outputs": [
        {
          "output_type": "stream",
          "name": "stdout",
          "text": [
            "      0         1      2\n",
            "0  1000     Steve  90.72\n",
            "1  1001     James  78.09\n",
            "2  1002    Doyeon  98.43\n",
            "3  1003      Jane  64.19\n",
            "4  1004  Pilwoong  81.30\n",
            "5  1005      Tony  99.14\n"
          ]
        }
      ]
    },
    {
      "cell_type": "code",
      "source": [
        "df= pd.DataFrame(data, columns=['학번', '이름', '점수'])\n",
        "print(df)"
      ],
      "metadata": {
        "colab": {
          "base_uri": "https://localhost:8080/"
        },
        "id": "s1yNKDq_p5_7",
        "outputId": "67f5fd37-4988-481e-ac49-24f24e8935b5"
      },
      "execution_count": 6,
      "outputs": [
        {
          "output_type": "stream",
          "name": "stdout",
          "text": [
            "     학번        이름     점수\n",
            "0  1000     Steve  90.72\n",
            "1  1001     James  78.09\n",
            "2  1002    Doyeon  98.43\n",
            "3  1003      Jane  64.19\n",
            "4  1004  Pilwoong  81.30\n",
            "5  1005      Tony  99.14\n"
          ]
        }
      ]
    },
    {
      "cell_type": "code",
      "source": [
        "# 딕셔너리로 생성하기\n",
        "data = {\n",
        "    '학번' : ['1000', '1001', '1002', '1003', '1004', '1005'],\n",
        "    '이름' : [ 'Steve', 'James', 'Doyeon', 'Jane', 'Pilwoong', 'Tony'],\n",
        "    '점수': [90.72, 78.09, 98.43, 64.19, 81.30, 99.14]\n",
        "    }\n",
        "\n",
        "df = pd.DataFrame(data)\n",
        "print(df)"
      ],
      "metadata": {
        "colab": {
          "base_uri": "https://localhost:8080/"
        },
        "id": "Rqi6Es7HqAzg",
        "outputId": "d1f43cec-b1ce-4ebf-f3c6-9a331b4ecf3d"
      },
      "execution_count": 7,
      "outputs": [
        {
          "output_type": "stream",
          "name": "stdout",
          "text": [
            "     학번        이름     점수\n",
            "0  1000     Steve  90.72\n",
            "1  1001     James  78.09\n",
            "2  1002    Doyeon  98.43\n",
            "3  1003      Jane  64.19\n",
            "4  1004  Pilwoong  81.30\n",
            "5  1005      Tony  99.14\n"
          ]
        }
      ]
    },
    {
      "cell_type": "code",
      "source": [
        "print(df.tail(2))"
      ],
      "metadata": {
        "colab": {
          "base_uri": "https://localhost:8080/"
        },
        "id": "PZSGE0jYqHz5",
        "outputId": "6f9332d2-de08-40ab-a95b-08eaf39bc65a"
      },
      "execution_count": 11,
      "outputs": [
        {
          "output_type": "stream",
          "name": "stdout",
          "text": [
            "     학번        이름     점수\n",
            "4  1004  Pilwoong  81.30\n",
            "5  1005      Tony  99.14\n"
          ]
        }
      ]
    },
    {
      "cell_type": "code",
      "source": [
        "print(df.head(2))"
      ],
      "metadata": {
        "colab": {
          "base_uri": "https://localhost:8080/"
        },
        "id": "m6tteCB1qP-H",
        "outputId": "73555cbb-07c2-4638-bab7-3ad2123b62e8"
      },
      "execution_count": 12,
      "outputs": [
        {
          "output_type": "stream",
          "name": "stdout",
          "text": [
            "     학번     이름     점수\n",
            "0  1000  Steve  90.72\n",
            "1  1001  James  78.09\n"
          ]
        }
      ]
    },
    {
      "cell_type": "code",
      "source": [
        "print(df['점수'])"
      ],
      "metadata": {
        "colab": {
          "base_uri": "https://localhost:8080/"
        },
        "id": "qwfJ4BOjqTQN",
        "outputId": "4613118e-b019-4739-bc90-518a298392f2"
      },
      "execution_count": 13,
      "outputs": [
        {
          "output_type": "stream",
          "name": "stdout",
          "text": [
            "0    90.72\n",
            "1    78.09\n",
            "2    98.43\n",
            "3    64.19\n",
            "4    81.30\n",
            "5    99.14\n",
            "Name: 점수, dtype: float64\n"
          ]
        }
      ]
    },
    {
      "cell_type": "code",
      "source": [
        "# 넘파이(Numpy)\n",
        "import numpy as np\n",
        "\n",
        "vec = np.array([1, 2, 3, 4, 5])\n",
        "print(vec)"
      ],
      "metadata": {
        "colab": {
          "base_uri": "https://localhost:8080/"
        },
        "id": "DKMYTMQDqidv",
        "outputId": "0833078d-da24-4789-aec7-6229700404df"
      },
      "execution_count": 15,
      "outputs": [
        {
          "output_type": "stream",
          "name": "stdout",
          "text": [
            "[1 2 3 4 5]\n"
          ]
        }
      ]
    },
    {
      "cell_type": "code",
      "source": [
        "mat = np.array([[10, 20, 30], [ 60, 70, 80]]) \n",
        "print(mat)"
      ],
      "metadata": {
        "colab": {
          "base_uri": "https://localhost:8080/"
        },
        "id": "LItWFplvq8Ho",
        "outputId": "16e98742-603a-4250-ae5a-0da0196123fb"
      },
      "execution_count": 16,
      "outputs": [
        {
          "output_type": "stream",
          "name": "stdout",
          "text": [
            "[[10 20 30]\n",
            " [60 70 80]]\n"
          ]
        }
      ]
    },
    {
      "cell_type": "code",
      "source": [
        "print('vec의 타입 :',type(vec))\n",
        "print('mat의 타입 :',type(mat))"
      ],
      "metadata": {
        "colab": {
          "base_uri": "https://localhost:8080/"
        },
        "id": "6ij0r_j_rCR_",
        "outputId": "ec91cb58-432d-44ed-8ebe-56e828841ead"
      },
      "execution_count": 17,
      "outputs": [
        {
          "output_type": "stream",
          "name": "stdout",
          "text": [
            "vec의 타입 : <class 'numpy.ndarray'>\n",
            "mat의 타입 : <class 'numpy.ndarray'>\n"
          ]
        }
      ]
    },
    {
      "cell_type": "code",
      "source": [
        "print('vec의 축의 개수 :',vec.ndim) # 축의 개수 출력\n",
        "print('vec의 크기(shape) :',vec.shape) # 크기 출력"
      ],
      "metadata": {
        "colab": {
          "base_uri": "https://localhost:8080/"
        },
        "id": "_wPhofr8rEev",
        "outputId": "3278f447-d055-4c25-f709-f751c24be7fe"
      },
      "execution_count": 18,
      "outputs": [
        {
          "output_type": "stream",
          "name": "stdout",
          "text": [
            "vec의 축의 개수 : 1\n",
            "vec의 크기(shape) : (5,)\n"
          ]
        }
      ]
    },
    {
      "cell_type": "code",
      "source": [
        "print('mat의 축의 개수 :',mat.ndim) # 축의 개수 출력\n",
        "print('mat의 크기(shape) :',mat.shape) # 크기 출력"
      ],
      "metadata": {
        "colab": {
          "base_uri": "https://localhost:8080/"
        },
        "id": "x1oqTw2VrN-0",
        "outputId": "320410d0-76b7-4a0f-b0e6-0f2dfca6f1e2"
      },
      "execution_count": 19,
      "outputs": [
        {
          "output_type": "stream",
          "name": "stdout",
          "text": [
            "mat의 축의 개수 : 2\n",
            "mat의 크기(shape) : (2, 3)\n"
          ]
        }
      ]
    },
    {
      "cell_type": "code",
      "source": [
        "zero_mat = np.zeros((3,3))\n",
        "print(zero_mat)"
      ],
      "metadata": {
        "colab": {
          "base_uri": "https://localhost:8080/"
        },
        "id": "0H6BRxnorRRb",
        "outputId": "a595a9ce-4a60-432a-ab72-77c564f9a30b"
      },
      "execution_count": 20,
      "outputs": [
        {
          "output_type": "stream",
          "name": "stdout",
          "text": [
            "[[0. 0. 0.]\n",
            " [0. 0. 0.]\n",
            " [0. 0. 0.]]\n"
          ]
        }
      ]
    },
    {
      "cell_type": "code",
      "source": [
        "# 모든 값이 1인 2x3 배열 생성.\n",
        "one_mat = np.ones((3,3))\n",
        "print(one_mat)"
      ],
      "metadata": {
        "colab": {
          "base_uri": "https://localhost:8080/"
        },
        "id": "pkEeoQ5erYiB",
        "outputId": "36cfa3c2-6220-4e41-e83d-bb3017e6860f"
      },
      "execution_count": 21,
      "outputs": [
        {
          "output_type": "stream",
          "name": "stdout",
          "text": [
            "[[1. 1. 1.]\n",
            " [1. 1. 1.]\n",
            " [1. 1. 1.]]\n"
          ]
        }
      ]
    },
    {
      "cell_type": "code",
      "source": [
        "# 모든 값이 특정 상수인 배열 생성. 이 경우 9.\n",
        "same_value_mat = np.full((2,4), 9)\n",
        "print(same_value_mat)"
      ],
      "metadata": {
        "colab": {
          "base_uri": "https://localhost:8080/"
        },
        "id": "JKZcVDhFrbq_",
        "outputId": "d81fad3b-707a-4a96-93ab-55d96bfb6ac1"
      },
      "execution_count": 22,
      "outputs": [
        {
          "output_type": "stream",
          "name": "stdout",
          "text": [
            "[[9 9 9 9]\n",
            " [9 9 9 9]]\n"
          ]
        }
      ]
    },
    {
      "cell_type": "code",
      "source": [
        "# 대각선 값이 1이고 나머지 값이 0인 2차원 배열을 생성.\n",
        "eye_mat = np.eye(5)\n",
        "print(eye_mat)"
      ],
      "metadata": {
        "colab": {
          "base_uri": "https://localhost:8080/"
        },
        "id": "Zgk5Vb8krtTX",
        "outputId": "6247f759-90e6-4c79-dd34-1e157693a447"
      },
      "execution_count": 23,
      "outputs": [
        {
          "output_type": "stream",
          "name": "stdout",
          "text": [
            "[[1. 0. 0. 0. 0.]\n",
            " [0. 1. 0. 0. 0.]\n",
            " [0. 0. 1. 0. 0.]\n",
            " [0. 0. 0. 1. 0.]\n",
            " [0. 0. 0. 0. 1.]]\n"
          ]
        }
      ]
    },
    {
      "cell_type": "code",
      "source": [
        "# 임의의 값으로 채워진 배열 생성\n",
        "random_mat = np.random.random((4,2)) # 임의의 값으로 채워진 배열 생성\n",
        "print(random_mat)"
      ],
      "metadata": {
        "colab": {
          "base_uri": "https://localhost:8080/"
        },
        "id": "haRkmOXQrxx6",
        "outputId": "e73ed6e2-d84d-4d6e-db56-fd6f23d1d206"
      },
      "execution_count": 24,
      "outputs": [
        {
          "output_type": "stream",
          "name": "stdout",
          "text": [
            "[[0.81815452 0.11416976]\n",
            " [0.41774943 0.87527372]\n",
            " [0.94451901 0.56919199]\n",
            " [0.73872058 0.3107576 ]]\n"
          ]
        }
      ]
    },
    {
      "cell_type": "code",
      "source": [
        "# 0부터 11까지\n",
        "range_vec = np.arange(12)\n",
        "print(range_vec)"
      ],
      "metadata": {
        "colab": {
          "base_uri": "https://localhost:8080/"
        },
        "id": "t0INuHxSr3UR",
        "outputId": "9ed1ae2a-af07-40f5-dbc6-85738803a325"
      },
      "execution_count": 25,
      "outputs": [
        {
          "output_type": "stream",
          "name": "stdout",
          "text": [
            "[ 0  1  2  3  4  5  6  7  8  9 10 11]\n"
          ]
        }
      ]
    },
    {
      "cell_type": "code",
      "source": [
        "# 1부터 9까지 +2씩 적용되는 범위\n",
        "n = 3\n",
        "range_n_step_vec = np.arange(1, 15, n)\n",
        "print(range_n_step_vec)"
      ],
      "metadata": {
        "colab": {
          "base_uri": "https://localhost:8080/"
        },
        "id": "i5E_pRVDr7wh",
        "outputId": "573395d4-925d-40e6-e8ae-abe143f0f6b9"
      },
      "execution_count": 26,
      "outputs": [
        {
          "output_type": "stream",
          "name": "stdout",
          "text": [
            "[ 1  4  7 10 13]\n"
          ]
        }
      ]
    },
    {
      "cell_type": "code",
      "source": [
        "reshape_mat = np.array(np.arange(30))\n",
        "print(reshape_mat)\n",
        "reshape_mat = reshape_mat.reshape((5,6))\n",
        "print(reshape_mat)"
      ],
      "metadata": {
        "colab": {
          "base_uri": "https://localhost:8080/"
        },
        "id": "NK4PkpZ7sBnM",
        "outputId": "78bccd0b-98cc-476e-c77c-c3bccaade99e"
      },
      "execution_count": 28,
      "outputs": [
        {
          "output_type": "stream",
          "name": "stdout",
          "text": [
            "[ 0  1  2  3  4  5  6  7  8  9 10 11 12 13 14 15 16 17 18 19 20 21 22 23\n",
            " 24 25 26 27 28 29]\n",
            "[[ 0  1  2  3  4  5]\n",
            " [ 6  7  8  9 10 11]\n",
            " [12 13 14 15 16 17]\n",
            " [18 19 20 21 22 23]\n",
            " [24 25 26 27 28 29]]\n"
          ]
        }
      ]
    },
    {
      "cell_type": "code",
      "source": [
        "mat = np.array([[1, 2, 3], [4, 5, 6]])\n",
        "print(mat)\n",
        "\n",
        "# 첫번째 행 출력\n",
        "slicing_mat = mat[0, :]\n",
        "print(slicing_mat)\n",
        "\n",
        "# 두번째 열 출력\n",
        "slicing_mat = mat[:, 1]\n",
        "print(slicing_mat)\n",
        "\n",
        "slicing_mat = mat[1, :]\n",
        "print(slicing_mat)"
      ],
      "metadata": {
        "colab": {
          "base_uri": "https://localhost:8080/"
        },
        "id": "cBx1gnhBsR9T",
        "outputId": "0c7bdcbd-50be-44d7-ba79-c7c24a1d699d"
      },
      "execution_count": 30,
      "outputs": [
        {
          "output_type": "stream",
          "name": "stdout",
          "text": [
            "[[1 2 3]\n",
            " [4 5 6]]\n",
            "[1 2 3]\n",
            "[2 5]\n",
            "[4 5 6]\n"
          ]
        }
      ]
    },
    {
      "cell_type": "code",
      "source": [
        "mat = np.array([[1, 2], [4, 5], [7, 8]])\n",
        "print(mat)"
      ],
      "metadata": {
        "colab": {
          "base_uri": "https://localhost:8080/"
        },
        "id": "Is021PtFtKqH",
        "outputId": "9bf728e9-48e3-4d05-d972-9c878067e83c"
      },
      "execution_count": 31,
      "outputs": [
        {
          "output_type": "stream",
          "name": "stdout",
          "text": [
            "[[1 2]\n",
            " [4 5]\n",
            " [7 8]]\n"
          ]
        }
      ]
    },
    {
      "cell_type": "code",
      "source": [
        "# 1행 0열의 원소\n",
        "# => 0부터 카운트하므로 두번째 행 첫번째 열의 원소.\n",
        "print(mat[1, 0])"
      ],
      "metadata": {
        "colab": {
          "base_uri": "https://localhost:8080/"
        },
        "id": "CfdBhI1MtZ33",
        "outputId": "8b7bdc54-d51e-4d6c-ded2-49e8ae410e2d"
      },
      "execution_count": 32,
      "outputs": [
        {
          "output_type": "stream",
          "name": "stdout",
          "text": [
            "4\n"
          ]
        }
      ]
    },
    {
      "cell_type": "code",
      "source": [
        "# mat[[2행, 1행],[0열, 1열]]\n",
        "# 각 행과 열의 쌍을 매칭하면 2행 0열, 1행 1열의 두 개의 원소.\n",
        "indexing_mat = mat[[2, 1],[0, 1]]\n",
        "print(indexing_mat)"
      ],
      "metadata": {
        "colab": {
          "base_uri": "https://localhost:8080/"
        },
        "id": "4LjauHT4tbcg",
        "outputId": "cebc3253-c02f-484d-cf77-63067da108c8"
      },
      "execution_count": 33,
      "outputs": [
        {
          "output_type": "stream",
          "name": "stdout",
          "text": [
            "[7 5]\n"
          ]
        }
      ]
    },
    {
      "cell_type": "code",
      "source": [
        "x = np.array([1,2,3])\n",
        "y = np.array([4,5,6])"
      ],
      "metadata": {
        "id": "4DbA7aTAtfwF"
      },
      "execution_count": 34,
      "outputs": []
    },
    {
      "cell_type": "code",
      "source": [
        "# result = np.add(x, y)와 동일.\n",
        "result = x + y\n",
        "print(result)"
      ],
      "metadata": {
        "colab": {
          "base_uri": "https://localhost:8080/"
        },
        "id": "vs2OXfo9tpb5",
        "outputId": "353049fa-d44d-4bfe-d5e4-9d33cf4cf13a"
      },
      "execution_count": 35,
      "outputs": [
        {
          "output_type": "stream",
          "name": "stdout",
          "text": [
            "[5 7 9]\n"
          ]
        }
      ]
    },
    {
      "cell_type": "code",
      "source": [
        "# result = np.subtract(x, y)와 동일.\n",
        "result = x - y\n",
        "print(result)"
      ],
      "metadata": {
        "colab": {
          "base_uri": "https://localhost:8080/"
        },
        "id": "HBCj4R03trjx",
        "outputId": "6fca9647-07dc-47f3-abb9-f38d7c5ed776"
      },
      "execution_count": 36,
      "outputs": [
        {
          "output_type": "stream",
          "name": "stdout",
          "text": [
            "[-3 -3 -3]\n"
          ]
        }
      ]
    },
    {
      "cell_type": "code",
      "source": [
        "# result = np.multiply(result, x)와 동일.\n",
        "result = result * x\n",
        "print(result)"
      ],
      "metadata": {
        "colab": {
          "base_uri": "https://localhost:8080/"
        },
        "id": "ao-I0AYtttCV",
        "outputId": "b92767c2-67a7-400a-9ee7-0c3cff2e532c"
      },
      "execution_count": 37,
      "outputs": [
        {
          "output_type": "stream",
          "name": "stdout",
          "text": [
            "[-3 -6 -9]\n"
          ]
        }
      ]
    },
    {
      "cell_type": "code",
      "source": [
        "# result = np.divide(result, x)와 동일.\n",
        "result = result / x\n",
        "print(result)"
      ],
      "metadata": {
        "colab": {
          "base_uri": "https://localhost:8080/"
        },
        "id": "DIyRuTK7tul2",
        "outputId": "288272c8-0ed6-4b06-d2a8-8b2feb6b536a"
      },
      "execution_count": 38,
      "outputs": [
        {
          "output_type": "stream",
          "name": "stdout",
          "text": [
            "[-3. -3. -3.]\n"
          ]
        }
      ]
    },
    {
      "cell_type": "code",
      "source": [
        "mat1 = np.array([[1,2],[3,4]])\n",
        "mat2 = np.array([[5,6],[7,8]])\n",
        "mat3 = np.dot(mat1, mat2)\n",
        "print(mat3)"
      ],
      "metadata": {
        "colab": {
          "base_uri": "https://localhost:8080/"
        },
        "id": "c2QvFjOPtyrJ",
        "outputId": "78ea9d1b-f369-4321-a077-4e7adc9b3c5c"
      },
      "execution_count": 39,
      "outputs": [
        {
          "output_type": "stream",
          "name": "stdout",
          "text": [
            "[[19 22]\n",
            " [43 50]]\n"
          ]
        }
      ]
    },
    {
      "cell_type": "code",
      "source": [
        "import matplotlib.pyplot as plt\n",
        "\n",
        "plt.title('test')\n",
        "plt.plot([1,2,3,4],[2,4,8,6])\n",
        "plt.show()"
      ],
      "metadata": {
        "colab": {
          "base_uri": "https://localhost:8080/",
          "height": 281
        },
        "id": "ysKKsRJNt4QF",
        "outputId": "f9b8e820-6f1a-4de8-950a-60d49df15aa5"
      },
      "execution_count": 40,
      "outputs": [
        {
          "output_type": "display_data",
          "data": {
            "text/plain": [
              "<Figure size 432x288 with 1 Axes>"
            ],
            "image/png": "[encoded data removed]"
          },
          "metadata": {
            "needs_background": "light"
          }
        }
      ]
    },
    {
      "cell_type": "code",
      "source": [
        "plt.title('test')\n",
        "plt.plot([1,2,3,4],[2,4,8,6])\n",
        "plt.xlabel('hours')\n",
        "plt.ylabel('score')\n",
        "plt.show()"
      ],
      "metadata": {
        "colab": {
          "base_uri": "https://localhost:8080/",
          "height": 295
        },
        "id": "XOXblSk8uale",
        "outputId": "fb960947-7c72-400b-f8ef-989aae33fd4a"
      },
      "execution_count": 41,
      "outputs": [
        {
          "output_type": "display_data",
          "data": {
            "text/plain": [
              "<Figure size 432x288 with 1 Axes>"
            ],
            "image/png": "[encoded data removed]"
          },
          "metadata": {
            "needs_background": "light"
          }
        }
      ]
    },
    {
      "cell_type": "code",
      "source": [
        "plt.title('students')\n",
        "plt.plot([1,2,3,4],[2,4,8,6])\n",
        "plt.plot([1.5,2.5,3.5,4.5],[3,5,8,10]) # 라인 새로 추가\n",
        "plt.plot([1,2,3,4],[3,5,8,10]) # 라인 새로 추가\n",
        "plt.xlabel('hours')\n",
        "plt.ylabel('score')\n",
        "plt.legend(['A student', 'B student']) # 범례 삽입\n",
        "plt.show()"
      ],
      "metadata": {
        "colab": {
          "base_uri": "https://localhost:8080/",
          "height": 295
        },
        "id": "yLGVxsuIumUD",
        "outputId": "28a5f090-2165-4e57-8f7f-746128230afa"
      },
      "execution_count": 42,
      "outputs": [
        {
          "output_type": "display_data",
          "data": {
            "text/plain": [
              "<Figure size 432x288 with 1 Axes>"
            ],
            "image/png": "[encoded data removed]"
          },
          "metadata": {
            "needs_background": "light"
          }
        }
      ]
    },
    {
      "cell_type": "code",
      "source": [
        ""
      ],
      "metadata": {
        "id": "TxquQBeDuzL0"
      },
      "execution_count": null,
      "outputs": []
    }
  ]
}