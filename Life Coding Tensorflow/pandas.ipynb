{
  "nbformat": 4,
  "nbformat_minor": 0,
  "metadata": {
    "colab": {
      "name": "Untitled0.ipynb",
      "provenance": [],
      "authorship_tag": "ABX9TyNkbvJYXCN/8EuMDYTdpJCi",
      "include_colab_link": true
    },
    "kernelspec": {
      "name": "python3",
      "display_name": "Python 3"
    },
    "language_info": {
      "name": "python"
    }
  },
  "cells": [
    {
      "cell_type": "markdown",
      "metadata": {
        "id": "view-in-github",
        "colab_type": "text"
      },
      "source": [
        "<a href=\"https://colab.research.google.com/github/EastShineK/Machine_Learning/blob/master/Life%20Coding%20Tensorflow/pandas.ipynb\" target=\"_parent\"><img src=\"https://colab.research.google.com/assets/colab-badge.svg\" alt=\"Open In Colab\"/></a>"
      ]
    },
    {
      "cell_type": "code",
      "execution_count": 1,
      "metadata": {
        "id": "uCTVGMmkVdQ8"
      },
      "outputs": [],
      "source": [
        "# 라이브러리 사용\n",
        "import pandas as pd"
      ]
    },
    {
      "cell_type": "code",
      "source": [
        "# 파일로부터 데이터 읽어오기\n",
        "파일경로 = 'https://raw.githubusercontent.com/blackdew/tensorflow1/master/csv/lemonade.csv'\n",
        "레모네이드 = pd.read_csv(파일경로)\n",
        " \n",
        "파일경로 = 'https://raw.githubusercontent.com/blackdew/tensorflow1/master/csv/boston.csv'\n",
        "보스턴 = pd.read_csv(파일경로)\n",
        " \n",
        "파일경로 = 'https://raw.githubusercontent.com/blackdew/tensorflow1/master/csv/iris.csv'\n",
        "아이리스 = pd.read_csv(파일경로)"
      ],
      "metadata": {
        "id": "b818nfEbVjns"
      },
      "execution_count": 2,
      "outputs": []
    },
    {
      "cell_type": "code",
      "source": [
        "# 데이터의 모양확인\n",
        "print(레모네이드.shape)\n",
        "print(보스턴.shape)\n",
        "print(아이리스.shape)"
      ],
      "metadata": {
        "colab": {
          "base_uri": "https://localhost:8080/"
        },
        "id": "YLCBsVzEVqmW",
        "outputId": "ece1967f-ffff-45b3-dc8b-3c0bef314ed3"
      },
      "execution_count": 3,
      "outputs": [
        {
          "output_type": "stream",
          "name": "stdout",
          "text": [
            "(6, 2)\n",
            "(506, 14)\n",
            "(150, 5)\n"
          ]
        }
      ]
    },
    {
      "cell_type": "code",
      "source": [
        "# 데이터 칼럼 이름 확인\n",
        "print(레모네이드.columns)\n",
        "print(보스턴.columns)\n",
        "print(아이리스.columns)"
      ],
      "metadata": {
        "colab": {
          "base_uri": "https://localhost:8080/"
        },
        "id": "IMz0yb7SV0Mc",
        "outputId": "e4795339-3f00-4ada-d787-baa79469c250"
      },
      "execution_count": 5,
      "outputs": [
        {
          "output_type": "stream",
          "name": "stdout",
          "text": [
            "Index(['온도', '판매량'], dtype='object')\n",
            "Index(['crim', 'zn', 'indus', 'chas', 'nox', 'rm', 'age', 'dis', 'rad', 'tax',\n",
            "       'ptratio', 'b', 'lstat', 'medv'],\n",
            "      dtype='object')\n",
            "Index(['꽃잎길이', '꽃잎폭', '꽃받침길이', '꽃받침폭', '품종'], dtype='object')\n"
          ]
        }
      ]
    },
    {
      "cell_type": "code",
      "source": [
        "# 독립변수와 종속변수 분리\n",
        "독립 = 레모네이드[['온도']]\n",
        "종속 = 레모네이드[['판매량']]\n",
        "print(독립.shape, 종속.shape)"
      ],
      "metadata": {
        "colab": {
          "base_uri": "https://localhost:8080/"
        },
        "id": "p8oBxuzdV-IB",
        "outputId": "066c2b77-f5c4-48fb-9ec4-ab107e110df8"
      },
      "execution_count": 6,
      "outputs": [
        {
          "output_type": "stream",
          "name": "stdout",
          "text": [
            "(6, 1) (6, 1)\n"
          ]
        }
      ]
    },
    {
      "cell_type": "code",
      "source": [
        "독립 = 보스턴[['crim', 'zn', 'indus', 'chas', 'nox', 'rm', 'age', 'dis', 'rad', 'tax','ptratio', 'b', 'lstat']]\n",
        "종속 = 보스턴[['medv']]\n",
        "print(독립.shape, 종속.shape)"
      ],
      "metadata": {
        "colab": {
          "base_uri": "https://localhost:8080/"
        },
        "id": "y-9stv4WWOAp",
        "outputId": "0b45378c-04ec-41f0-91f4-8e9cb7ea803c"
      },
      "execution_count": 9,
      "outputs": [
        {
          "output_type": "stream",
          "name": "stdout",
          "text": [
            "(506, 13) (506, 1)\n"
          ]
        }
      ]
    },
    {
      "cell_type": "code",
      "source": [
        "독립 = 아이리스[['꽃잎길이', '꽃잎폭', '꽃받침길이', '꽃받침폭']]\n",
        "종속 = 아이리스[['품종']]\n",
        "print(독립.shape, 종속.shape)"
      ],
      "metadata": {
        "colab": {
          "base_uri": "https://localhost:8080/"
        },
        "id": "1tGSoC6YWUPz",
        "outputId": "547b9fbb-b78f-411e-bb84-36532baf010c"
      },
      "execution_count": 10,
      "outputs": [
        {
          "output_type": "stream",
          "name": "stdout",
          "text": [
            "(150, 4) (150, 1)\n"
          ]
        }
      ]
    },
    {
      "cell_type": "code",
      "source": [
        "# 각각의 데이터 확인해보기\n",
        "print(레모네이드.head())"
      ],
      "metadata": {
        "colab": {
          "base_uri": "https://localhost:8080/"
        },
        "id": "OVVTOjwqWmaZ",
        "outputId": "a705e5b2-7607-4c58-9f8a-b2167b36fe4e"
      },
      "execution_count": 11,
      "outputs": [
        {
          "output_type": "stream",
          "name": "stdout",
          "text": [
            "   온도  판매량\n",
            "0  20   40\n",
            "1  21   42\n",
            "2  22   44\n",
            "3  23   46\n",
            "4  24   48\n"
          ]
        }
      ]
    },
    {
      "cell_type": "code",
      "source": [
        "print(보스턴.head())"
      ],
      "metadata": {
        "colab": {
          "base_uri": "https://localhost:8080/"
        },
        "id": "mkfD-qMeWs6o",
        "outputId": "cebc77db-8477-4c7f-8d32-d5e8507dea71"
      },
      "execution_count": 12,
      "outputs": [
        {
          "output_type": "stream",
          "name": "stdout",
          "text": [
            "      crim    zn  indus  chas    nox  ...  tax  ptratio       b  lstat  medv\n",
            "0  0.00632  18.0   2.31     0  0.538  ...  296     15.3  396.90   4.98  24.0\n",
            "1  0.02731   0.0   7.07     0  0.469  ...  242     17.8  396.90   9.14  21.6\n",
            "2  0.02729   0.0   7.07     0  0.469  ...  242     17.8  392.83   4.03  34.7\n",
            "3  0.03237   0.0   2.18     0  0.458  ...  222     18.7  394.63   2.94  33.4\n",
            "4  0.06905   0.0   2.18     0  0.458  ...  222     18.7  396.90   5.33  36.2\n",
            "\n",
            "[5 rows x 14 columns]\n"
          ]
        }
      ]
    },
    {
      "cell_type": "code",
      "source": [
        "print(아이리스.head())"
      ],
      "metadata": {
        "colab": {
          "base_uri": "https://localhost:8080/"
        },
        "id": "b2QOKM11Wu8R",
        "outputId": "bba99f75-586d-4357-8f4d-4227cbe3fddf"
      },
      "execution_count": 13,
      "outputs": [
        {
          "output_type": "stream",
          "name": "stdout",
          "text": [
            "   꽃잎길이  꽃잎폭  꽃받침길이  꽃받침폭      품종\n",
            "0   5.1  3.5    1.4   0.2  setosa\n",
            "1   4.9  3.0    1.4   0.2  setosa\n",
            "2   4.7  3.2    1.3   0.2  setosa\n",
            "3   4.6  3.1    1.5   0.2  setosa\n",
            "4   5.0  3.6    1.4   0.2  setosa\n"
          ]
        }
      ]
    },
    {
      "cell_type": "code",
      "source": [
        ""
      ],
      "metadata": {
        "id": "AE9jsgFDWyO_"
      },
      "execution_count": null,
      "outputs": []
    }
  ]
}